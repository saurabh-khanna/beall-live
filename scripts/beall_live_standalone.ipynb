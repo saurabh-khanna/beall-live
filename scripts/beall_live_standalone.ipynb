{
 "cells": [
  {
   "cell_type": "code",
   "execution_count": 1,
   "metadata": {},
   "outputs": [],
   "source": [
    "import pandas as pd\n",
    "import requests\n",
    "from bs4 import BeautifulSoup\n",
    "from tqdm import tqdm\n",
    "from datetime import datetime\n",
    "\n",
    "tqdm.pandas()"
   ]
  },
  {
   "cell_type": "code",
   "execution_count": 2,
   "metadata": {},
   "outputs": [],
   "source": [
    "page = requests.get(\"https://beallslist.net/standalone-journals/\")\n",
    "soup = BeautifulSoup(page.content, \"html.parser\")"
   ]
  },
  {
   "cell_type": "code",
   "execution_count": 3,
   "metadata": {},
   "outputs": [],
   "source": [
    "for ul in soup.find_all(\"ul\", class_=\"main-menu\"):\n",
    "    ul.decompose()\n",
    "    # print(ul.prettify())"
   ]
  },
  {
   "cell_type": "code",
   "execution_count": 4,
   "metadata": {},
   "outputs": [],
   "source": [
    "for ul in soup.find_all(\"ul\", class_=\"sub-menu\"):\n",
    "    ul.decompose()\n",
    "    # print(ul.prettify())"
   ]
  },
  {
   "cell_type": "code",
   "execution_count": 5,
   "metadata": {},
   "outputs": [],
   "source": [
    "links = soup.select(\"ul > li > a\")\n",
    "\n",
    "names = []\n",
    "urls = []\n",
    "\n",
    "for link in links:\n",
    "    names.append(link.contents[0])\n",
    "    urls.append(link.get(\"href\"))\n",
    "\n",
    "df = pd.DataFrame({\"source\": names, \"url\": urls})"
   ]
  },
  {
   "cell_type": "code",
   "execution_count": 6,
   "metadata": {},
   "outputs": [
    {
     "data": {
      "text/html": [
       "<div>\n",
       "<style scoped>\n",
       "    .dataframe tbody tr th:only-of-type {\n",
       "        vertical-align: middle;\n",
       "    }\n",
       "\n",
       "    .dataframe tbody tr th {\n",
       "        vertical-align: top;\n",
       "    }\n",
       "\n",
       "    .dataframe thead th {\n",
       "        text-align: right;\n",
       "    }\n",
       "</style>\n",
       "<table border=\"1\" class=\"dataframe\">\n",
       "  <thead>\n",
       "    <tr style=\"text-align: right;\">\n",
       "      <th></th>\n",
       "      <th>source</th>\n",
       "      <th>url</th>\n",
       "    </tr>\n",
       "  </thead>\n",
       "  <tbody>\n",
       "    <tr>\n",
       "      <th>0</th>\n",
       "      <td>Academic Exchange Quarterly</td>\n",
       "      <td>http://www.rapidintellect.com/AEQweb/</td>\n",
       "    </tr>\n",
       "    <tr>\n",
       "      <th>1</th>\n",
       "      <td>Academic Research Reviews</td>\n",
       "      <td>http://academicreviews.us/Default.aspx</td>\n",
       "    </tr>\n",
       "    <tr>\n",
       "      <th>2</th>\n",
       "      <td>Academy of Contemporary Research Journal</td>\n",
       "      <td>http://aocrj.org/</td>\n",
       "    </tr>\n",
       "    <tr>\n",
       "      <th>3</th>\n",
       "      <td>ACME Intellects</td>\n",
       "      <td>http://www.acmeintellects.org/</td>\n",
       "    </tr>\n",
       "    <tr>\n",
       "      <th>4</th>\n",
       "      <td>Acta  de Gerencia Ciencia</td>\n",
       "      <td>http://www.cagena.com/</td>\n",
       "    </tr>\n",
       "    <tr>\n",
       "      <th>...</th>\n",
       "      <td>...</td>\n",
       "      <td>...</td>\n",
       "    </tr>\n",
       "    <tr>\n",
       "      <th>1540</th>\n",
       "      <td>Technology Reports of Kansai University</td>\n",
       "      <td>http://kansaiuniversityreports.com/</td>\n",
       "    </tr>\n",
       "    <tr>\n",
       "      <th>1541</th>\n",
       "      <td>TEST: Engineering &amp; Management</td>\n",
       "      <td>http://www.testmagzine.biz/</td>\n",
       "    </tr>\n",
       "    <tr>\n",
       "      <th>1542</th>\n",
       "      <td>The Turkish Nephrology, Dialysis and Transplan...</td>\n",
       "      <td>http://www.tndt.org/</td>\n",
       "    </tr>\n",
       "    <tr>\n",
       "      <th>1543</th>\n",
       "      <td>World Journal of Environmental Biosciences</td>\n",
       "      <td>http://www.environmentaljournals.org/</td>\n",
       "    </tr>\n",
       "    <tr>\n",
       "      <th>1544</th>\n",
       "      <td>World Nutrition, WPHNA</td>\n",
       "      <td>https://worldnutritionjournal.org/index.php/wn</td>\n",
       "    </tr>\n",
       "  </tbody>\n",
       "</table>\n",
       "<p>1545 rows × 2 columns</p>\n",
       "</div>"
      ],
      "text/plain": [
       "                                                 source  \\\n",
       "0                           Academic Exchange Quarterly   \n",
       "1                             Academic Research Reviews   \n",
       "2             Academy of Contemporary Research Journal    \n",
       "3                                       ACME Intellects   \n",
       "4                             Acta  de Gerencia Ciencia   \n",
       "...                                                 ...   \n",
       "1540            Technology Reports of Kansai University   \n",
       "1541                     TEST: Engineering & Management   \n",
       "1542  The Turkish Nephrology, Dialysis and Transplan...   \n",
       "1543         World Journal of Environmental Biosciences   \n",
       "1544                             World Nutrition, WPHNA   \n",
       "\n",
       "                                                 url  \n",
       "0              http://www.rapidintellect.com/AEQweb/  \n",
       "1             http://academicreviews.us/Default.aspx  \n",
       "2                                  http://aocrj.org/  \n",
       "3                     http://www.acmeintellects.org/  \n",
       "4                             http://www.cagena.com/  \n",
       "...                                              ...  \n",
       "1540             http://kansaiuniversityreports.com/  \n",
       "1541                     http://www.testmagzine.biz/  \n",
       "1542                            http://www.tndt.org/  \n",
       "1543           http://www.environmentaljournals.org/  \n",
       "1544  https://worldnutritionjournal.org/index.php/wn  \n",
       "\n",
       "[1545 rows x 2 columns]"
      ]
     },
     "execution_count": 6,
     "metadata": {},
     "output_type": "execute_result"
    }
   ],
   "source": [
    "df"
   ]
  },
  {
   "cell_type": "code",
   "execution_count": 7,
   "metadata": {},
   "outputs": [],
   "source": [
    "def url_ok(url):\n",
    "    try:\n",
    "        r = requests.head(url, timeout=30)\n",
    "        return r.status_code\n",
    "    except:\n",
    "        return None\n",
    "\n",
    "# def url_ok2(url):\n",
    "#     try:\n",
    "#         return urllib.request.urlopen(url).getcode()\n",
    "#     except:\n",
    "#         return None"
   ]
  },
  {
   "cell_type": "code",
   "execution_count": 8,
   "metadata": {},
   "outputs": [
    {
     "name": "stderr",
     "output_type": "stream",
     "text": [
      "100%|██████████| 1545/1545 [26:32<00:00,  1.03s/it]  \n"
     ]
    }
   ],
   "source": [
    "df[\"status\"] = df.progress_apply(lambda row: url_ok(row[\"url\"]), axis=1)"
   ]
  },
  {
   "cell_type": "code",
   "execution_count": 9,
   "metadata": {},
   "outputs": [
    {
     "data": {
      "text/plain": [
       "200.0    0.377346\n",
       "301.0    0.245955\n",
       "406.0    0.116505\n",
       "NaN      0.109385\n",
       "302.0    0.082201\n",
       "403.0    0.029773\n",
       "404.0    0.022654\n",
       "500.0    0.007120\n",
       "400.0    0.003883\n",
       "412.0    0.001942\n",
       "401.0    0.001294\n",
       "503.0    0.000647\n",
       "303.0    0.000647\n",
       "308.0    0.000647\n",
       "Name: status, dtype: float64"
      ]
     },
     "execution_count": 9,
     "metadata": {},
     "output_type": "execute_result"
    }
   ],
   "source": [
    "df[\"status\"].value_counts(dropna=False, normalize=True)"
   ]
  },
  {
   "cell_type": "code",
   "execution_count": 10,
   "metadata": {},
   "outputs": [],
   "source": [
    "df[\"date\"] = datetime.today().strftime('%B %d, %Y')"
   ]
  },
  {
   "cell_type": "code",
   "execution_count": 11,
   "metadata": {},
   "outputs": [],
   "source": [
    "df.to_csv(\"../data/df_weekly_standalone.csv\", encoding='utf-8', index=False)"
   ]
  },
  {
   "cell_type": "code",
   "execution_count": null,
   "metadata": {},
   "outputs": [],
   "source": []
  }
 ],
 "metadata": {
  "kernelspec": {
   "display_name": "Python 3",
   "language": "python",
   "name": "python3"
  },
  "language_info": {
   "codemirror_mode": {
    "name": "ipython",
    "version": 3
   },
   "file_extension": ".py",
   "mimetype": "text/x-python",
   "name": "python",
   "nbconvert_exporter": "python",
   "pygments_lexer": "ipython3",
   "version": "3.8.10"
  }
 },
 "nbformat": 4,
 "nbformat_minor": 4
}

{
 "cells": [
  {
   "cell_type": "code",
   "execution_count": 1,
   "metadata": {},
   "outputs": [],
   "source": [
    "import pandas as pd\n",
    "import requests\n",
    "from bs4 import BeautifulSoup\n",
    "from tqdm import tqdm\n",
    "from datetime import datetime\n",
    "\n",
    "tqdm.pandas()"
   ]
  },
  {
   "cell_type": "code",
   "execution_count": 2,
   "metadata": {},
   "outputs": [],
   "source": [
    "page = requests.get(\"https://beallslist.net/\")\n",
    "soup = BeautifulSoup(page.content, \"html.parser\")"
   ]
  },
  {
   "cell_type": "code",
   "execution_count": 3,
   "metadata": {},
   "outputs": [],
   "source": [
    "for ul in soup.find_all(\"ul\", class_=\"main-menu\"):\n",
    "    ul.decompose()\n",
    "    # print(ul.prettify())"
   ]
  },
  {
   "cell_type": "code",
   "execution_count": 4,
   "metadata": {},
   "outputs": [],
   "source": [
    "for ul in soup.find_all(\"ul\", class_=\"sub-menu\"):\n",
    "    ul.decompose()\n",
    "    # print(ul.prettify())"
   ]
  },
  {
   "cell_type": "code",
   "execution_count": 5,
   "metadata": {},
   "outputs": [],
   "source": [
    "links = soup.select(\"ul > li > a\")\n",
    "\n",
    "names = []\n",
    "urls = []\n",
    "\n",
    "for link in links:\n",
    "    names.append(link.contents[0])\n",
    "    urls.append(link.get(\"href\"))\n",
    "\n",
    "df = pd.DataFrame({\"source\": names, \"url\": urls})"
   ]
  },
  {
   "cell_type": "code",
   "execution_count": 6,
   "metadata": {},
   "outputs": [
    {
     "data": {
      "text/html": [
       "<div>\n",
       "<style scoped>\n",
       "    .dataframe tbody tr th:only-of-type {\n",
       "        vertical-align: middle;\n",
       "    }\n",
       "\n",
       "    .dataframe tbody tr th {\n",
       "        vertical-align: top;\n",
       "    }\n",
       "\n",
       "    .dataframe thead th {\n",
       "        text-align: right;\n",
       "    }\n",
       "</style>\n",
       "<table border=\"1\" class=\"dataframe\">\n",
       "  <thead>\n",
       "    <tr style=\"text-align: right;\">\n",
       "      <th></th>\n",
       "      <th>source</th>\n",
       "      <th>url</th>\n",
       "    </tr>\n",
       "  </thead>\n",
       "  <tbody>\n",
       "    <tr>\n",
       "      <th>0</th>\n",
       "      <td>1088 Email Press</td>\n",
       "      <td>http://1088.email/</td>\n",
       "    </tr>\n",
       "    <tr>\n",
       "      <th>1</th>\n",
       "      <td>2425 Publishers</td>\n",
       "      <td>http://2425publishers.org/</td>\n",
       "    </tr>\n",
       "    <tr>\n",
       "      <th>2</th>\n",
       "      <td>The 5th Publisher</td>\n",
       "      <td>http://www.5thpublisher.com/</td>\n",
       "    </tr>\n",
       "    <tr>\n",
       "      <th>3</th>\n",
       "      <td>ABC Journals</td>\n",
       "      <td>http://www.abcjournals.net/</td>\n",
       "    </tr>\n",
       "    <tr>\n",
       "      <th>4</th>\n",
       "      <td>A M Publishers</td>\n",
       "      <td>http://ampublisher.com/index.html</td>\n",
       "    </tr>\n",
       "    <tr>\n",
       "      <th>...</th>\n",
       "      <td>...</td>\n",
       "      <td>...</td>\n",
       "    </tr>\n",
       "    <tr>\n",
       "      <th>1375</th>\n",
       "      <td>United Prime Publications, Universal Access Me...</td>\n",
       "      <td>https://www.untdprimepub.com/</td>\n",
       "    </tr>\n",
       "    <tr>\n",
       "      <th>1376</th>\n",
       "      <td>Universal Wiser Publisher</td>\n",
       "      <td>http://www.wiserpub.com/</td>\n",
       "    </tr>\n",
       "    <tr>\n",
       "      <th>1377</th>\n",
       "      <td>Vision Science Research Sdn Bhd</td>\n",
       "      <td>http://vision-science.com/</td>\n",
       "    </tr>\n",
       "    <tr>\n",
       "      <th>1378</th>\n",
       "      <td>Universe Scientific Publishing</td>\n",
       "      <td>http://www.usp-pl.com/</td>\n",
       "    </tr>\n",
       "    <tr>\n",
       "      <th>1379</th>\n",
       "      <td>Multidisciplinary Digital Publishing Institute...</td>\n",
       "      <td>http://www.mdpi.com/</td>\n",
       "    </tr>\n",
       "  </tbody>\n",
       "</table>\n",
       "<p>1380 rows × 2 columns</p>\n",
       "</div>"
      ],
      "text/plain": [
       "                                                 source  \\\n",
       "0                                      1088 Email Press   \n",
       "1                                       2425 Publishers   \n",
       "2                                     The 5th Publisher   \n",
       "3                                          ABC Journals   \n",
       "4                                        A M Publishers   \n",
       "...                                                 ...   \n",
       "1375  United Prime Publications, Universal Access Me...   \n",
       "1376                          Universal Wiser Publisher   \n",
       "1377                    Vision Science Research Sdn Bhd   \n",
       "1378                     Universe Scientific Publishing   \n",
       "1379  Multidisciplinary Digital Publishing Institute...   \n",
       "\n",
       "                                    url  \n",
       "0                    http://1088.email/  \n",
       "1            http://2425publishers.org/  \n",
       "2          http://www.5thpublisher.com/  \n",
       "3           http://www.abcjournals.net/  \n",
       "4     http://ampublisher.com/index.html  \n",
       "...                                 ...  \n",
       "1375      https://www.untdprimepub.com/  \n",
       "1376           http://www.wiserpub.com/  \n",
       "1377         http://vision-science.com/  \n",
       "1378             http://www.usp-pl.com/  \n",
       "1379               http://www.mdpi.com/  \n",
       "\n",
       "[1380 rows x 2 columns]"
      ]
     },
     "execution_count": 6,
     "metadata": {},
     "output_type": "execute_result"
    }
   ],
   "source": [
    "# last 2 rows redundant\n",
    "df.drop(index=df.index[-2:], axis=0, inplace=True)\n",
    "df"
   ]
  },
  {
   "cell_type": "code",
   "execution_count": 7,
   "metadata": {},
   "outputs": [],
   "source": [
    "def url_ok(url):\n",
    "    try:\n",
    "        r = requests.head(url, timeout=30)\n",
    "        return r.status_code\n",
    "    except:\n",
    "        return None\n",
    "\n",
    "# def url_ok2(url):\n",
    "#     try:\n",
    "#         return urllib.request.urlopen(url).getcode()\n",
    "#     except:\n",
    "#         return None"
   ]
  },
  {
   "cell_type": "code",
   "execution_count": 8,
   "metadata": {},
   "outputs": [
    {
     "name": "stderr",
     "output_type": "stream",
     "text": [
      "100%|██████████| 1380/1380 [22:52<00:00,  1.01it/s] \n"
     ]
    }
   ],
   "source": [
    "df[\"status\"] = df.progress_apply(lambda row: url_ok(row[\"url\"]), axis=1)"
   ]
  },
  {
   "cell_type": "code",
   "execution_count": 9,
   "metadata": {},
   "outputs": [
    {
     "data": {
      "text/plain": [
       "200.0    0.363768\n",
       "301.0    0.281884\n",
       "NaN      0.112319\n",
       "406.0    0.099275\n",
       "302.0    0.060145\n",
       "404.0    0.034058\n",
       "403.0    0.031159\n",
       "500.0    0.007971\n",
       "400.0    0.003623\n",
       "503.0    0.002174\n",
       "412.0    0.001449\n",
       "410.0    0.000725\n",
       "408.0    0.000725\n",
       "501.0    0.000725\n",
       "Name: status, dtype: float64"
      ]
     },
     "execution_count": 9,
     "metadata": {},
     "output_type": "execute_result"
    }
   ],
   "source": [
    "df[\"status\"].value_counts(dropna=False, normalize=True)"
   ]
  },
  {
   "cell_type": "code",
   "execution_count": 10,
   "metadata": {},
   "outputs": [],
   "source": [
    "df[\"date\"] = datetime.today().strftime('%B %d, %Y')"
   ]
  },
  {
   "cell_type": "code",
   "execution_count": 11,
   "metadata": {},
   "outputs": [],
   "source": [
    "df.to_csv(\"../data/df_weekly_publishers.csv\", encoding='utf-8', index=False)"
   ]
  },
  {
   "cell_type": "code",
   "execution_count": null,
   "metadata": {},
   "outputs": [],
   "source": []
  }
 ],
 "metadata": {
  "kernelspec": {
   "display_name": "Python 3",
   "language": "python",
   "name": "python3"
  },
  "language_info": {
   "codemirror_mode": {
    "name": "ipython",
    "version": 3
   },
   "file_extension": ".py",
   "mimetype": "text/x-python",
   "name": "python",
   "nbconvert_exporter": "python",
   "pygments_lexer": "ipython3",
   "version": "3.8.10"
  }
 },
 "nbformat": 4,
 "nbformat_minor": 4
}
